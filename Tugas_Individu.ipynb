{
 "cells": [
  {
   "cell_type": "markdown",
   "id": "14a82184",
   "metadata": {},
   "source": [
    "# TUGAS INDIVIDU\n",
    "Nama: Ummul Qura\n",
    "NIM : H071201017\n",
    "Kelas : Teknologi Basis Data A"
   ]
  },
  {
   "cell_type": "code",
   "execution_count": 1,
   "id": "fead9310",
   "metadata": {
    "scrolled": true
   },
   "outputs": [
    {
     "name": "stdout",
     "output_type": "stream",
     "text": [
      "Requirement already satisfied: mysqlclient in c:\\users\\asus\\anaconda3\\lib\\site-packages (2.1.1)\n",
      "Note: you may need to restart the kernel to use updated packages.\n"
     ]
    }
   ],
   "source": [
    "pip install mysqlclient"
   ]
  },
  {
   "cell_type": "code",
   "execution_count": 2,
   "id": "1794ff3c",
   "metadata": {},
   "outputs": [
    {
     "name": "stdout",
     "output_type": "stream",
     "text": [
      "Requirement already satisfied: sqlalchemy in c:\\users\\asus\\anaconda3\\lib\\site-packages (1.4.7)Note: you may need to restart the kernel to use updated packages.\n",
      "Requirement already satisfied: greenlet!=0.4.17 in c:\\users\\asus\\anaconda3\\lib\\site-packages (from sqlalchemy) (1.0.0)\n",
      "\n"
     ]
    }
   ],
   "source": [
    "pip install sqlalchemy"
   ]
  },
  {
   "cell_type": "code",
   "execution_count": 3,
   "id": "d9027351",
   "metadata": {},
   "outputs": [],
   "source": [
    "from sqlalchemy import Column, Integer, String, and_, or_, text, ForeignKey, DECIMAL, Date, Text\n",
    "from sqlalchemy import create_engine\n",
    "from sqlalchemy.ext.declarative import declarative_base\n",
    "from sqlalchemy.orm import sessionmaker, relationship, subqueryload, joinedload\n",
    "from sqlalchemy.sql import func\n",
    "from sqlalchemy.dialects.mysql import INTEGER, MEDIUMBLOB, MEDIUMTEXT, SMALLINT"
   ]
  },
  {
   "cell_type": "markdown",
   "id": "4e6851dc",
   "metadata": {},
   "source": [
    "# # Connect to Database"
   ]
  },
  {
   "cell_type": "code",
   "execution_count": 4,
   "id": "e23c507f",
   "metadata": {},
   "outputs": [],
   "source": [
    "engine = create_engine('mysql://root@127.0.0.1/classicmodels', echo = True)"
   ]
  },
  {
   "cell_type": "markdown",
   "id": "4002bed4",
   "metadata": {},
   "source": [
    "# # Declare Base Class"
   ]
  },
  {
   "cell_type": "code",
   "execution_count": 5,
   "id": "2f5ba2f2",
   "metadata": {},
   "outputs": [
    {
     "name": "stdout",
     "output_type": "stream",
     "text": [
      "2022-12-15 15:00:23,708 INFO sqlalchemy.engine.Engine SHOW VARIABLES LIKE 'sql_mode'\n",
      "2022-12-15 15:00:23,709 INFO sqlalchemy.engine.Engine [raw sql] ()\n",
      "2022-12-15 15:00:23,734 INFO sqlalchemy.engine.Engine SHOW VARIABLES LIKE 'lower_case_table_names'\n",
      "2022-12-15 15:00:23,735 INFO sqlalchemy.engine.Engine [generated in 0.00204s] ()\n",
      "2022-12-15 15:00:23,739 INFO sqlalchemy.engine.Engine SELECT DATABASE()\n",
      "2022-12-15 15:00:23,740 INFO sqlalchemy.engine.Engine [raw sql] ()\n",
      "2022-12-15 15:00:23,746 INFO sqlalchemy.engine.Engine BEGIN (implicit)\n",
      "2022-12-15 15:00:23,749 INFO sqlalchemy.engine.Engine SELECT COUNT(*) FROM information_schema.tables WHERE table_schema = %s AND table_name = %s\n",
      "2022-12-15 15:00:23,752 INFO sqlalchemy.engine.Engine [generated in 0.00438s] ('classicmodels', 'offices')\n",
      "2022-12-15 15:00:23,765 INFO sqlalchemy.engine.Engine SELECT COUNT(*) FROM information_schema.tables WHERE table_schema = %s AND table_name = %s\n",
      "2022-12-15 15:00:23,765 INFO sqlalchemy.engine.Engine [cached since 0.0172s ago] ('classicmodels', 'productlines')\n",
      "2022-12-15 15:00:23,771 INFO sqlalchemy.engine.Engine SELECT COUNT(*) FROM information_schema.tables WHERE table_schema = %s AND table_name = %s\n",
      "2022-12-15 15:00:23,773 INFO sqlalchemy.engine.Engine [cached since 0.02448s ago] ('classicmodels', 'employees')\n",
      "2022-12-15 15:00:23,779 INFO sqlalchemy.engine.Engine SELECT COUNT(*) FROM information_schema.tables WHERE table_schema = %s AND table_name = %s\n",
      "2022-12-15 15:00:23,780 INFO sqlalchemy.engine.Engine [cached since 0.03132s ago] ('classicmodels', 'products')\n",
      "2022-12-15 15:00:23,781 INFO sqlalchemy.engine.Engine SELECT COUNT(*) FROM information_schema.tables WHERE table_schema = %s AND table_name = %s\n",
      "2022-12-15 15:00:23,782 INFO sqlalchemy.engine.Engine [cached since 0.03388s ago] ('classicmodels', 'customers')\n",
      "2022-12-15 15:00:23,787 INFO sqlalchemy.engine.Engine SELECT COUNT(*) FROM information_schema.tables WHERE table_schema = %s AND table_name = %s\n",
      "2022-12-15 15:00:23,788 INFO sqlalchemy.engine.Engine [cached since 0.0401s ago] ('classicmodels', 'orders')\n",
      "2022-12-15 15:00:23,791 INFO sqlalchemy.engine.Engine SELECT COUNT(*) FROM information_schema.tables WHERE table_schema = %s AND table_name = %s\n",
      "2022-12-15 15:00:23,792 INFO sqlalchemy.engine.Engine [cached since 0.0439s ago] ('classicmodels', 'payments')\n",
      "2022-12-15 15:00:23,794 INFO sqlalchemy.engine.Engine SELECT COUNT(*) FROM information_schema.tables WHERE table_schema = %s AND table_name = %s\n",
      "2022-12-15 15:00:23,795 INFO sqlalchemy.engine.Engine [cached since 0.04677s ago] ('classicmodels', 'orderdetails')\n",
      "2022-12-15 15:00:23,797 INFO sqlalchemy.engine.Engine COMMIT\n"
     ]
    }
   ],
   "source": [
    "Base = declarative_base()\n",
    "metadata = Base.metadata\n",
    "\n",
    "\n",
    "class Office(Base):\n",
    "    __tablename__ = 'offices'\n",
    "\n",
    "    officeCode = Column(String(10), primary_key=True)\n",
    "    city = Column(String(50), nullable=False)\n",
    "    phone = Column(String(50), nullable=False)\n",
    "    addressLine1 = Column(String(50), nullable=False)\n",
    "    addressLine2 = Column(String(50))\n",
    "    state = Column(String(50))\n",
    "    country = Column(String(50), nullable=False)\n",
    "    postalCode = Column(String(15), nullable=False)\n",
    "    territory = Column(String(10), nullable=False)\n",
    "\n",
    "\n",
    "class Productline(Base):\n",
    "    __tablename__ = 'productlines'\n",
    "\n",
    "    productLine = Column(String(50), primary_key=True)\n",
    "    textDescription = Column(String(4000))\n",
    "    htmlDescription = Column(MEDIUMTEXT)\n",
    "    image = Column(MEDIUMBLOB)\n",
    "\n",
    "\n",
    "class Employee(Base):\n",
    "    __tablename__ = 'employees'\n",
    "\n",
    "    employeeNumber = Column(INTEGER(11), primary_key=True)\n",
    "    lastName = Column(String(50), nullable=False)\n",
    "    firstName = Column(String(50), nullable=False)\n",
    "    extension = Column(String(10), nullable=False)\n",
    "    email = Column(String(100), nullable=False)\n",
    "    officeCode = Column(ForeignKey('offices.officeCode'), nullable=False, index=True)\n",
    "    reportsTo = Column(ForeignKey('employees.employeeNumber'), index=True)\n",
    "    jobTitle = Column(String(50), nullable=False)\n",
    "\n",
    "    office = relationship('Office')\n",
    "    parent = relationship('Employee', remote_side=[employeeNumber])\n",
    "\n",
    "\n",
    "class Product(Base):\n",
    "    __tablename__ = 'products'\n",
    "\n",
    "    productCode = Column(String(15), primary_key=True)\n",
    "    productName = Column(String(70), nullable=False)\n",
    "    productLine = Column(ForeignKey('productlines.productLine'), nullable=False, index=True)\n",
    "    productScale = Column(String(10), nullable=False)\n",
    "    productVendor = Column(String(50), nullable=False)\n",
    "    productDescription = Column(Text, nullable=False)\n",
    "    quantityInStock = Column(SMALLINT(6), nullable=False)\n",
    "    buyPrice = Column(DECIMAL(10, 2), nullable=False)\n",
    "    MSRP = Column(DECIMAL(10, 2), nullable=False)\n",
    "\n",
    "    productline = relationship('Productline')\n",
    "\n",
    "\n",
    "class Customer(Base):\n",
    "    __tablename__ = 'customers'\n",
    "\n",
    "    customerNumber = Column(INTEGER(11), primary_key=True)\n",
    "    customerName = Column(String(50), nullable=False)\n",
    "    contactLastName = Column(String(50), nullable=False)\n",
    "    contactFirstName = Column(String(50), nullable=False)\n",
    "    phone = Column(String(50), nullable=False)\n",
    "    addressLine1 = Column(String(50), nullable=False)\n",
    "    addressLine2 = Column(String(50))\n",
    "    city = Column(String(50), nullable=False)\n",
    "    state = Column(String(50))\n",
    "    postalCode = Column(String(15))\n",
    "    country = Column(String(50), nullable=False)\n",
    "    salesRepEmployeeNumber = Column(ForeignKey('employees.employeeNumber'), index=True)\n",
    "    creditLimit = Column(DECIMAL(10, 2))\n",
    "\n",
    "    employee = relationship('Employee')\n",
    "\n",
    "\n",
    "class Order(Base):\n",
    "    __tablename__ = 'orders'\n",
    "\n",
    "    orderNumber = Column(INTEGER(11), primary_key=True)\n",
    "    orderDate = Column(Date, nullable=False)\n",
    "    requiredDate = Column(Date, nullable=False)\n",
    "    shippedDate = Column(Date)\n",
    "    status = Column(String(15), nullable=False)\n",
    "    comments = Column(Text)\n",
    "    customerNumber = Column(ForeignKey('customers.customerNumber'), nullable=False, index=True)\n",
    "\n",
    "    customer = relationship('Customer')\n",
    "\n",
    "\n",
    "class Payment(Base):\n",
    "    __tablename__ = 'payments'\n",
    "\n",
    "    customerNumber = Column(ForeignKey('customers.customerNumber'), primary_key=True, nullable=False)\n",
    "    checkNumber = Column(String(50), primary_key=True, nullable=False)\n",
    "    paymentDate = Column(Date, nullable=False)\n",
    "    amount = Column(DECIMAL(10, 2), nullable=False)\n",
    "\n",
    "    customer = relationship('Customer')\n",
    "\n",
    "\n",
    "class Orderdetail(Base):\n",
    "    __tablename__ = 'orderdetails'\n",
    "\n",
    "    orderNumber = Column(ForeignKey('orders.orderNumber'), primary_key=True, nullable=False)\n",
    "    productCode = Column(ForeignKey('products.productCode'), primary_key=True, nullable=False, index=True)\n",
    "    quantityOrdered = Column(INTEGER(11), nullable=False)\n",
    "    priceEach = Column(DECIMAL(10, 2), nullable=False)\n",
    "    orderLineNumber = Column(SMALLINT(6), nullable=False)\n",
    "\n",
    "    order = relationship('Order')\n",
    "    product = relationship('Product')\n",
    "    \n",
    "Base.metadata.create_all(engine)"
   ]
  },
  {
   "cell_type": "markdown",
   "id": "710da859",
   "metadata": {},
   "source": [
    "# #Declare Session"
   ]
  },
  {
   "cell_type": "code",
   "execution_count": 6,
   "id": "07014fd9",
   "metadata": {},
   "outputs": [],
   "source": [
    "Session = sessionmaker(bind = engine)\n",
    "session = Session()"
   ]
  },
  {
   "cell_type": "markdown",
   "id": "febb0c0d",
   "metadata": {},
   "source": [
    "## 1. Prepare a list of offices sorted by country, state, city. "
   ]
  },
  {
   "cell_type": "code",
   "execution_count": 7,
   "id": "cc45c217",
   "metadata": {},
   "outputs": [
    {
     "name": "stdout",
     "output_type": "stream",
     "text": [
      "2022-12-15 15:00:23,844 INFO sqlalchemy.engine.Engine BEGIN (implicit)\n",
      "2022-12-15 15:00:23,857 INFO sqlalchemy.engine.Engine SELECT offices.`officeCode` AS `offices_officeCode`, offices.city AS offices_city, offices.phone AS offices_phone, offices.`addressLine1` AS `offices_addressLine1`, offices.`addressLine2` AS `offices_addressLine2`, offices.state AS offices_state, offices.country AS offices_country, offices.`postalCode` AS `offices_postalCode`, offices.territory AS offices_territory \n",
      "FROM offices ORDER BY offices.country, offices.state, offices.city\n",
      "2022-12-15 15:00:23,863 INFO sqlalchemy.engine.Engine [generated in 0.00551s] ()\n",
      "[Country]: Australia [State]: None [City]: Sydney\n",
      "[Country]: France [State]: None [City]: Paris\n",
      "[Country]: Japan [State]: Chiyoda-Ku [City]: Tokyo\n",
      "[Country]: UK [State]: None [City]: London\n",
      "[Country]: USA [State]: CA [City]: San Francisco\n",
      "[Country]: USA [State]: MA [City]: Boston\n",
      "[Country]: USA [State]: NY [City]: NYC\n"
     ]
    }
   ],
   "source": [
    "result = session.query(Office)\n",
    "\n",
    "for row in result.order_by(Office.country,  Office.state, Office.city):\n",
    "    print (\"[Country]:\",row.country, \"[State]:\",row.state, \"[City]:\",row.city) "
   ]
  },
  {
   "cell_type": "markdown",
   "id": "63cb72b5",
   "metadata": {},
   "source": [
    "## 2. How many employees are there in the company? "
   ]
  },
  {
   "cell_type": "code",
   "execution_count": 8,
   "id": "2d6ecef5",
   "metadata": {},
   "outputs": [
    {
     "name": "stdout",
     "output_type": "stream",
     "text": [
      "2022-12-15 15:00:23,911 INFO sqlalchemy.engine.Engine SELECT count(*) AS count_1 \n",
      "FROM (SELECT employees.`employeeNumber` AS `employees_employeeNumber`, employees.`lastName` AS `employees_lastName`, employees.`firstName` AS `employees_firstName`, employees.extension AS employees_extension, employees.email AS employees_email, employees.`officeCode` AS `employees_officeCode`, employees.`reportsTo` AS `employees_reportsTo`, employees.`jobTitle` AS `employees_jobTitle` \n",
      "FROM employees) AS anon_1\n",
      "2022-12-15 15:00:23,914 INFO sqlalchemy.engine.Engine [generated in 0.00344s] ()\n",
      "Employees in the company is : 23\n"
     ]
    }
   ],
   "source": [
    "result = session.query(Employee).count()\n",
    "\n",
    "print (\"Employees in the company is :\", result) "
   ]
  },
  {
   "cell_type": "markdown",
   "id": "f1c58d51",
   "metadata": {},
   "source": [
    "## 3. What is the total of payments received"
   ]
  },
  {
   "cell_type": "code",
   "execution_count": 9,
   "id": "f307ace8",
   "metadata": {},
   "outputs": [
    {
     "name": "stdout",
     "output_type": "stream",
     "text": [
      "2022-12-15 15:00:23,940 INFO sqlalchemy.engine.Engine SELECT sum(payments.amount) AS sum_1 \n",
      "FROM payments\n",
      "2022-12-15 15:00:23,941 INFO sqlalchemy.engine.Engine [generated in 0.00109s] ()\n",
      "Total of Payments Received is : 8853839.23\n"
     ]
    }
   ],
   "source": [
    "result = session.query(func.sum(Payment.amount))\n",
    "\n",
    "for row in result.all():\n",
    "    print(\"Total of Payments Received is :\", row[0])"
   ]
  },
  {
   "cell_type": "markdown",
   "id": "7a9f98b5",
   "metadata": {},
   "source": [
    "## 4. List the product lines that contain 'Cars'. "
   ]
  },
  {
   "cell_type": "code",
   "execution_count": 10,
   "id": "1d51e8cb",
   "metadata": {},
   "outputs": [
    {
     "name": "stdout",
     "output_type": "stream",
     "text": [
      "2022-12-15 15:00:23,970 INFO sqlalchemy.engine.Engine SELECT productlines.`productLine` AS `productlines_productLine`, productlines.`textDescription` AS `productlines_textDescription`, productlines.`htmlDescription` AS `productlines_htmlDescription`, productlines.image AS productlines_image \n",
      "FROM productlines \n",
      "WHERE productlines.`productLine` LIKE %s\n",
      "2022-12-15 15:00:23,972 INFO sqlalchemy.engine.Engine [generated in 0.00326s] ('%Cars%',)\n",
      "[Product Line]: Classic Cars\n",
      "[Product Line]: Vintage Cars\n"
     ]
    }
   ],
   "source": [
    "result = session.query(Productline).filter(Productline.productLine.like('%Cars%'))\n",
    "\n",
    "for row in result:\n",
    "   print (\"[Product Line]:\",row.productLine)"
   ]
  },
  {
   "cell_type": "markdown",
   "id": "1b63ca7e",
   "metadata": {},
   "source": [
    "## 5. Report total payments for October 28, 2004. \n"
   ]
  },
  {
   "cell_type": "code",
   "execution_count": 11,
   "id": "be3436ea",
   "metadata": {},
   "outputs": [
    {
     "name": "stdout",
     "output_type": "stream",
     "text": [
      "2022-12-15 15:00:24,000 INFO sqlalchemy.engine.Engine SELECT payments.`customerNumber` AS `payments_customerNumber`, payments.`checkNumber` AS `payments_checkNumber`, payments.`paymentDate` AS `payments_paymentDate`, payments.amount AS payments_amount \n",
      "FROM payments \n",
      "WHERE payments.`paymentDate` = %s\n",
      "2022-12-15 15:00:24,002 INFO sqlalchemy.engine.Engine [generated in 0.00301s] ('2004-10-28',)\n",
      "Total Payments for October 28, 2004 :  47411.33\n"
     ]
    }
   ],
   "source": [
    "result = session.query(Payment).filter_by(paymentDate='2004-10-28')\n",
    "\n",
    "for row in result:\n",
    "    print(\"Total Payments for October 28, 2004 : \",row.amount)"
   ]
  },
  {
   "cell_type": "markdown",
   "id": "9d1bc536",
   "metadata": {},
   "source": [
    "## 6. Report those payments greater than 100.000.\n"
   ]
  },
  {
   "cell_type": "code",
   "execution_count": 12,
   "id": "a0e775d6",
   "metadata": {},
   "outputs": [
    {
     "name": "stdout",
     "output_type": "stream",
     "text": [
      "2022-12-15 15:00:24,032 INFO sqlalchemy.engine.Engine SELECT payments.`customerNumber` AS `payments_customerNumber`, payments.`checkNumber` AS `payments_checkNumber`, payments.`paymentDate` AS `payments_paymentDate`, payments.amount AS payments_amount \n",
      "FROM payments \n",
      "WHERE payments.amount > %s\n",
      "2022-12-15 15:00:24,035 INFO sqlalchemy.engine.Engine [generated in 0.00332s] (100000,)\n",
      "[Customer Number]: 124 [Check Number]: AE215433 [Payment Date]: 2005-03-05 [Amount]: 101244.59\n",
      "[Customer Number]: 124 [Check Number]: KI131716 [Payment Date]: 2003-08-15 [Amount]: 111654.40\n",
      "[Customer Number]: 141 [Check Number]: ID10962 [Payment Date]: 2004-12-31 [Amount]: 116208.40\n",
      "[Customer Number]: 141 [Check Number]: JE105477 [Payment Date]: 2005-03-18 [Amount]: 120166.58\n",
      "[Customer Number]: 148 [Check Number]: KM172879 [Payment Date]: 2003-12-26 [Amount]: 105743.00\n"
     ]
    }
   ],
   "source": [
    "result = session.query(Payment).filter(Payment.amount > 100000)\n",
    "\n",
    "for row in result:\n",
    "   print (\"[Customer Number]:\",row.customerNumber,\"[Check Number]:\",row.checkNumber,\"[Payment Date]:\",row.paymentDate,\"[Amount]:\",row.amount)"
   ]
  },
  {
   "cell_type": "markdown",
   "id": "37852abe",
   "metadata": {},
   "source": [
    "## 7. List the products in each product line.\n"
   ]
  },
  {
   "cell_type": "code",
   "execution_count": 13,
   "id": "c2377dc6",
   "metadata": {},
   "outputs": [
    {
     "name": "stdout",
     "output_type": "stream",
     "text": [
      "2022-12-15 15:00:24,061 INFO sqlalchemy.engine.Engine SELECT products.`productCode` AS `products_productCode`, products.`productName` AS `products_productName`, products.`productLine` AS `products_productLine`, products.`productScale` AS `products_productScale`, products.`productVendor` AS `products_productVendor`, products.`productDescription` AS `products_productDescription`, products.`quantityInStock` AS `products_quantityInStock`, products.`buyPrice` AS `products_buyPrice`, products.`MSRP` AS `products_MSRP` \n",
      "FROM products GROUP BY products.`productLine`, products.`productName`\n",
      "2022-12-15 15:00:24,062 INFO sqlalchemy.engine.Engine [generated in 0.00111s] ()\n",
      "[Product Name]: 1948 Porsche 356-A Roadster [Product Line]: Classic Cars\n",
      "[Product Name]: 1948 Porsche Type 356 Roadster [Product Line]: Classic Cars\n",
      "[Product Name]: 1949 Jaguar XK 120 [Product Line]: Classic Cars\n",
      "[Product Name]: 1952 Alpine Renault 1300 [Product Line]: Classic Cars\n",
      "[Product Name]: 1952 Citroen-15CV [Product Line]: Classic Cars\n",
      "[Product Name]: 1956 Porsche 356A Coupe [Product Line]: Classic Cars\n",
      "[Product Name]: 1957 Corvette Convertible [Product Line]: Classic Cars\n",
      "[Product Name]: 1957 Ford Thunderbird [Product Line]: Classic Cars\n",
      "[Product Name]: 1958 Chevy Corvette Limited Edition [Product Line]: Classic Cars\n",
      "[Product Name]: 1961 Chevrolet Impala [Product Line]: Classic Cars\n",
      "[Product Name]: 1962 LanciaA Delta 16V [Product Line]: Classic Cars\n",
      "[Product Name]: 1965 Aston Martin DB5 [Product Line]: Classic Cars\n",
      "[Product Name]: 1966 Shelby Cobra 427 S/C [Product Line]: Classic Cars\n",
      "[Product Name]: 1968 Dodge Charger [Product Line]: Classic Cars\n",
      "[Product Name]: 1968 Ford Mustang [Product Line]: Classic Cars\n",
      "[Product Name]: 1969 Chevrolet Camaro Z28 [Product Line]: Classic Cars\n",
      "[Product Name]: 1969 Corvair Monza [Product Line]: Classic Cars\n",
      "[Product Name]: 1969 Dodge Charger [Product Line]: Classic Cars\n",
      "[Product Name]: 1969 Dodge Super Bee [Product Line]: Classic Cars\n",
      "[Product Name]: 1969 Ford Falcon [Product Line]: Classic Cars\n",
      "[Product Name]: 1970 Chevy Chevelle SS 454 [Product Line]: Classic Cars\n",
      "[Product Name]: 1970 Dodge Coronet [Product Line]: Classic Cars\n",
      "[Product Name]: 1970 Plymouth Hemi Cuda [Product Line]: Classic Cars\n",
      "[Product Name]: 1970 Triumph Spitfire [Product Line]: Classic Cars\n",
      "[Product Name]: 1971 Alpine Renault 1600s [Product Line]: Classic Cars\n",
      "[Product Name]: 1972 Alfa Romeo GTA [Product Line]: Classic Cars\n",
      "[Product Name]: 1976 Ford Gran Torino [Product Line]: Classic Cars\n",
      "[Product Name]: 1982 Camaro Z28 [Product Line]: Classic Cars\n",
      "[Product Name]: 1982 Lamborghini Diablo [Product Line]: Classic Cars\n",
      "[Product Name]: 1985 Toyota Supra [Product Line]: Classic Cars\n",
      "[Product Name]: 1992 Ferrari 360 Spider red [Product Line]: Classic Cars\n",
      "[Product Name]: 1992 Porsche Cayenne Turbo Silver [Product Line]: Classic Cars\n",
      "[Product Name]: 1993 Mazda RX-7 [Product Line]: Classic Cars\n",
      "[Product Name]: 1995 Honda Civic [Product Line]: Classic Cars\n",
      "[Product Name]: 1998 Chrysler Plymouth Prowler [Product Line]: Classic Cars\n",
      "[Product Name]: 1999 Indy 500 Monte Carlo SS [Product Line]: Classic Cars\n",
      "[Product Name]: 2001 Ferrari Enzo [Product Line]: Classic Cars\n",
      "[Product Name]: 2002 Chevy Corvette [Product Line]: Classic Cars\n",
      "[Product Name]: 1936 Harley Davidson El Knucklehead [Product Line]: Motorcycles\n",
      "[Product Name]: 1957 Vespa GS150 [Product Line]: Motorcycles\n",
      "[Product Name]: 1960 BSA Gold Star DBD34 [Product Line]: Motorcycles\n",
      "[Product Name]: 1969 Harley Davidson Ultimate Chopper [Product Line]: Motorcycles\n",
      "[Product Name]: 1974 Ducati 350 Mk3 Desmo [Product Line]: Motorcycles\n",
      "[Product Name]: 1982 Ducati 900 Monster [Product Line]: Motorcycles\n",
      "[Product Name]: 1982 Ducati 996 R [Product Line]: Motorcycles\n",
      "[Product Name]: 1996 Moto Guzzi 1100i [Product Line]: Motorcycles\n",
      "[Product Name]: 1997 BMW F650 ST [Product Line]: Motorcycles\n",
      "[Product Name]: 1997 BMW R 1100 S [Product Line]: Motorcycles\n",
      "[Product Name]: 2002 Suzuki XREO [Product Line]: Motorcycles\n",
      "[Product Name]: 2002 Yamaha YZR M1 [Product Line]: Motorcycles\n",
      "[Product Name]: 2003 Harley-Davidson Eagle Drag Bike [Product Line]: Motorcycles\n",
      "[Product Name]: 1900s Vintage Bi-Plane [Product Line]: Planes\n",
      "[Product Name]: 1900s Vintage Tri-Plane [Product Line]: Planes\n",
      "[Product Name]: 1928 British Royal Navy Airplane [Product Line]: Planes\n",
      "[Product Name]: 1980s Black Hawk Helicopter [Product Line]: Planes\n",
      "[Product Name]: America West Airlines B757-200 [Product Line]: Planes\n",
      "[Product Name]: American Airlines: B767-300 [Product Line]: Planes\n",
      "[Product Name]: American Airlines: MD-11S [Product Line]: Planes\n",
      "[Product Name]: ATA: B757-300 [Product Line]: Planes\n",
      "[Product Name]: Boeing X-32A JSF [Product Line]: Planes\n",
      "[Product Name]: Corsair F4U ( Bird Cage) [Product Line]: Planes\n",
      "[Product Name]: F/A 18 Hornet 1/72 [Product Line]: Planes\n",
      "[Product Name]: P-51-D Mustang [Product Line]: Planes\n",
      "[Product Name]: 18th century schooner [Product Line]: Ships\n",
      "[Product Name]: 1999 Yamaha Speed Boat [Product Line]: Ships\n",
      "[Product Name]: HMS Bounty [Product Line]: Ships\n",
      "[Product Name]: Pont Yacht [Product Line]: Ships\n",
      "[Product Name]: The Mayflower [Product Line]: Ships\n",
      "[Product Name]: The Queen Mary [Product Line]: Ships\n",
      "[Product Name]: The Schooner Bluenose [Product Line]: Ships\n",
      "[Product Name]: The Titanic [Product Line]: Ships\n",
      "[Product Name]: The USS Constitution Ship [Product Line]: Ships\n",
      "[Product Name]: 1950's Chicago Surface Lines Streetcar [Product Line]: Trains\n",
      "[Product Name]: 1962 City of Detroit Streetcar [Product Line]: Trains\n",
      "[Product Name]: Collectable Wooden Train [Product Line]: Trains\n",
      "[Product Name]: 1926 Ford Fire Engine [Product Line]: Trucks and Buses\n",
      "[Product Name]: 1940 Ford Pickup Truck [Product Line]: Trucks and Buses\n",
      "[Product Name]: 1940s Ford truck [Product Line]: Trucks and Buses\n",
      "[Product Name]: 1954 Greyhound Scenicruiser [Product Line]: Trucks and Buses\n",
      "[Product Name]: 1957 Chevy Pickup [Product Line]: Trucks and Buses\n",
      "[Product Name]: 1958 Setra Bus [Product Line]: Trucks and Buses\n",
      "[Product Name]: 1962 Volkswagen Microbus [Product Line]: Trucks and Buses\n",
      "[Product Name]: 1964 Mercedes Tour Bus [Product Line]: Trucks and Buses\n",
      "[Product Name]: 1980’s GM Manhattan Express [Product Line]: Trucks and Buses\n",
      "[Product Name]: 1996 Peterbilt 379 Stake Bed with Outrigger [Product Line]: Trucks and Buses\n",
      "[Product Name]: Diamond T620 Semi-Skirted Tanker [Product Line]: Trucks and Buses\n",
      "[Product Name]: 18th Century Vintage Horse Carriage [Product Line]: Vintage Cars\n",
      "[Product Name]: 1903 Ford Model A [Product Line]: Vintage Cars\n",
      "[Product Name]: 1904 Buick Runabout [Product Line]: Vintage Cars\n",
      "[Product Name]: 1911 Ford Town Car [Product Line]: Vintage Cars\n",
      "[Product Name]: 1912 Ford Model T Delivery Wagon [Product Line]: Vintage Cars\n",
      "[Product Name]: 1913 Ford Model T Speedster [Product Line]: Vintage Cars\n",
      "[Product Name]: 1917 Grand Touring Sedan [Product Line]: Vintage Cars\n",
      "[Product Name]: 1917 Maxwell Touring Car [Product Line]: Vintage Cars\n",
      "[Product Name]: 1928 Ford Phaeton Deluxe [Product Line]: Vintage Cars\n",
      "[Product Name]: 1928 Mercedes-Benz SSK [Product Line]: Vintage Cars\n",
      "[Product Name]: 1930 Buick Marquette Phaeton [Product Line]: Vintage Cars\n",
      "[Product Name]: 1932 Alfa Romeo 8C2300 Spider Sport [Product Line]: Vintage Cars\n",
      "[Product Name]: 1932 Model A Ford J-Coupe [Product Line]: Vintage Cars\n",
      "[Product Name]: 1934 Ford V8 Coupe [Product Line]: Vintage Cars\n",
      "[Product Name]: 1936 Chrysler Airflow [Product Line]: Vintage Cars\n",
      "[Product Name]: 1936 Mercedes Benz 500k Roadster [Product Line]: Vintage Cars\n",
      "[Product Name]: 1936 Mercedes-Benz 500K Special Roadster [Product Line]: Vintage Cars\n",
      "[Product Name]: 1937 Horch 930V Limousine [Product Line]: Vintage Cars\n",
      "[Product Name]: 1937 Lincoln Berline [Product Line]: Vintage Cars\n",
      "[Product Name]: 1938 Cadillac V-16 Presidential Limousine [Product Line]: Vintage Cars\n",
      "[Product Name]: 1939 Cadillac Limousine [Product Line]: Vintage Cars\n",
      "[Product Name]: 1939 Chevrolet Deluxe Coupe [Product Line]: Vintage Cars\n",
      "[Product Name]: 1940 Ford Delivery Sedan [Product Line]: Vintage Cars\n",
      "[Product Name]: 1941 Chevrolet Special Deluxe Cabriolet [Product Line]: Vintage Cars\n"
     ]
    }
   ],
   "source": [
    "result = session.query(Product).group_by(Product.productLine, Product.productName)\n",
    "\n",
    "for row in result :\n",
    "    print(\"[Product Name]:\", row.productName, \"[Product Line]:\", row.productLine)"
   ]
  },
  {
   "cell_type": "markdown",
   "id": "b04a3446",
   "metadata": {},
   "source": [
    "## 8. How many products in each product line?\n"
   ]
  },
  {
   "cell_type": "code",
   "execution_count": 14,
   "id": "8eafee01",
   "metadata": {},
   "outputs": [
    {
     "name": "stdout",
     "output_type": "stream",
     "text": [
      "2022-12-15 15:00:24,122 INFO sqlalchemy.engine.Engine SELECT products.`productLine` AS `products_productLine`, count(products.`productLine`) AS count_1 \n",
      "FROM products GROUP BY products.`productLine`\n",
      "2022-12-15 15:00:24,124 INFO sqlalchemy.engine.Engine [generated in 0.00175s] ()\n",
      "('Classic Cars', 38)\n",
      "('Motorcycles', 13)\n",
      "('Planes', 12)\n",
      "('Ships', 9)\n",
      "('Trains', 3)\n",
      "('Trucks and Buses', 11)\n",
      "('Vintage Cars', 24)\n"
     ]
    }
   ],
   "source": [
    "result = session.query(Product.productLine,func.count(Product.productLine)).group_by(Product.productLine)\n",
    "\n",
    "for row in result:\n",
    "    print(row)"
   ]
  },
  {
   "cell_type": "markdown",
   "id": "b9842b36",
   "metadata": {},
   "source": [
    "## 9. What is the minimum payment received?\n"
   ]
  },
  {
   "cell_type": "code",
   "execution_count": 15,
   "id": "7286a4ce",
   "metadata": {},
   "outputs": [
    {
     "name": "stdout",
     "output_type": "stream",
     "text": [
      "2022-12-15 15:00:24,137 INFO sqlalchemy.engine.Engine SELECT min(payments.amount) AS min_1 \n",
      "FROM payments\n",
      "2022-12-15 15:00:24,138 INFO sqlalchemy.engine.Engine [generated in 0.00127s] ()\n",
      "Minimum Payment Received:  615.45\n"
     ]
    }
   ],
   "source": [
    "result = session.query(func.min(Payment.amount))\n",
    "\n",
    "for row in result:\n",
    "    print(\"Minimum Payment Received: \", row[0])"
   ]
  },
  {
   "cell_type": "markdown",
   "id": "7d3c3f01",
   "metadata": {},
   "source": [
    "## 10. List all payments greater than twice the average payment.\n"
   ]
  },
  {
   "cell_type": "code",
   "execution_count": 16,
   "id": "0999d185",
   "metadata": {},
   "outputs": [
    {
     "name": "stdout",
     "output_type": "stream",
     "text": [
      "2022-12-15 15:00:24,180 INFO sqlalchemy.engine.Engine SELECT payments.`customerNumber` AS `payments_customerNumber`, payments.`checkNumber` AS `payments_checkNumber`, payments.`paymentDate` AS `payments_paymentDate`, payments.amount AS payments_amount \n",
      "FROM payments \n",
      "WHERE payments.amount >= (SELECT round(avg(payments.amount) * %s) AS round_1 \n",
      "FROM payments)\n",
      "2022-12-15 15:00:24,181 INFO sqlalchemy.engine.Engine [generated in 0.00099s] (2,)\n",
      "[Customer Number]: 114 [Payment]: 82261.22\n",
      "[Customer Number]: 124 [Payment]: 101244.59\n",
      "[Customer Number]: 124 [Payment]: 85410.87\n",
      "[Customer Number]: 124 [Payment]: 83598.04\n",
      "[Customer Number]: 124 [Payment]: 111654.40\n",
      "[Customer Number]: 141 [Payment]: 116208.40\n",
      "[Customer Number]: 141 [Payment]: 65071.26\n",
      "[Customer Number]: 141 [Payment]: 120166.58\n",
      "[Customer Number]: 148 [Payment]: 105743.00\n",
      "[Customer Number]: 167 [Payment]: 85024.46\n",
      "[Customer Number]: 239 [Payment]: 80375.24\n",
      "[Customer Number]: 321 [Payment]: 85559.12\n",
      "[Customer Number]: 323 [Payment]: 75020.13\n"
     ]
    },
    {
     "name": "stderr",
     "output_type": "stream",
     "text": [
      "C:\\Users\\ASUS\\anaconda3\\lib\\site-packages\\sqlalchemy\\sql\\coercions.py:307: SAWarning: implicitly coercing SELECT object to scalar subquery; please use the .scalar_subquery() method to produce a scalar subquery.\n",
      "  util.warn(\n"
     ]
    }
   ],
   "source": [
    "result = session.query(func.round(func.avg(Payment.amount)*2))\n",
    "all_payment = session.query(Payment).filter(Payment.amount >= result)\n",
    "\n",
    "for row in all_payment:\n",
    "    print(\"[Customer Number]:\",row.customerNumber,\"[Payment]:\",row.amount)"
   ]
  },
  {
   "cell_type": "markdown",
   "id": "6813ec63",
   "metadata": {},
   "source": [
    "## 11. What is the average percentage markup of the MSRP on buyPrice?\n"
   ]
  },
  {
   "cell_type": "code",
   "execution_count": 17,
   "id": "45280438",
   "metadata": {},
   "outputs": [
    {
     "name": "stdout",
     "output_type": "stream",
     "text": [
      "2022-12-15 15:00:24,213 INFO sqlalchemy.engine.Engine SELECT avg(((products.`MSRP` - products.`buyPrice`) / products.`buyPrice`) * %s) AS avg_1 \n",
      "FROM products\n",
      "2022-12-15 15:00:24,223 INFO sqlalchemy.engine.Engine [generated in 0.01034s] (100,)\n",
      "Average Percentage Markup of the MSRP on buy Price: 88.7023921713\n"
     ]
    }
   ],
   "source": [
    "result = session.query(func.avg((Product.MSRP - Product.buyPrice)/Product.buyPrice *100)).scalar()\n",
    "\n",
    "print(\"Average Percentage Markup of the MSRP on buy Price:\", result)"
   ]
  },
  {
   "cell_type": "markdown",
   "id": "d63d5f40",
   "metadata": {},
   "source": [
    "## 12. How many distinct products does ClassicModels sell? \n"
   ]
  },
  {
   "cell_type": "code",
   "execution_count": 18,
   "id": "10b3a5b7",
   "metadata": {},
   "outputs": [
    {
     "name": "stdout",
     "output_type": "stream",
     "text": [
      "2022-12-15 15:00:24,244 INFO sqlalchemy.engine.Engine SELECT count(*) AS count_1 \n",
      "FROM (SELECT DISTINCT products.`productCode` AS `products_productCode`, products.`productName` AS `products_productName`, products.`productLine` AS `products_productLine`, products.`productScale` AS `products_productScale`, products.`productVendor` AS `products_productVendor`, products.`productDescription` AS `products_productDescription`, products.`quantityInStock` AS `products_quantityInStock`, products.`buyPrice` AS `products_buyPrice`, products.`MSRP` AS `products_MSRP` \n",
      "FROM products) AS anon_1\n",
      "2022-12-15 15:00:24,246 INFO sqlalchemy.engine.Engine [generated in 0.00194s] ()\n",
      "Classic Models sell 110\n"
     ]
    }
   ],
   "source": [
    "result = session.query(Product).distinct().count()\n",
    "\n",
    "print(\"Classic Models sell\",result) "
   ]
  },
  {
   "cell_type": "markdown",
   "id": "71f466e8",
   "metadata": {},
   "source": [
    "## 13. Report the name and city of customers who don't have sales representatives?\n"
   ]
  },
  {
   "cell_type": "code",
   "execution_count": 19,
   "id": "b2cc59d5",
   "metadata": {},
   "outputs": [
    {
     "name": "stdout",
     "output_type": "stream",
     "text": [
      "2022-12-15 15:00:24,279 INFO sqlalchemy.engine.Engine SELECT customers.`customerNumber` AS `customers_customerNumber`, customers.`customerName` AS `customers_customerName`, customers.`contactLastName` AS `customers_contactLastName`, customers.`contactFirstName` AS `customers_contactFirstName`, customers.phone AS customers_phone, customers.`addressLine1` AS `customers_addressLine1`, customers.`addressLine2` AS `customers_addressLine2`, customers.city AS customers_city, customers.state AS customers_state, customers.`postalCode` AS `customers_postalCode`, customers.country AS customers_country, customers.`salesRepEmployeeNumber` AS `customers_salesRepEmployeeNumber`, customers.`creditLimit` AS `customers_creditLimit` \n",
      "FROM customers \n",
      "WHERE customers.`salesRepEmployeeNumber` IS NULL ORDER BY customers.`customerName`\n",
      "2022-12-15 15:00:24,281 INFO sqlalchemy.engine.Engine [generated in 0.00225s] ()\n",
      "[Costumer Name]: ANG Resellers [Costumer City]:  Madrid\n",
      "[Costumer Name]: Anton Designs, Ltd. [Costumer City]:  Madrid\n",
      "[Costumer Name]: Asian Shopping Network, Co [Costumer City]:  Singapore\n",
      "[Costumer Name]: Asian Treasures, Inc. [Costumer City]:  Cork\n",
      "[Costumer Name]: BG&E Collectables [Costumer City]:  Fribourg\n",
      "[Costumer Name]: Cramer Spezialitäten, Ltd [Costumer City]:  Brandenburg\n",
      "[Costumer Name]: Der Hund Imports [Costumer City]:  Berlin\n",
      "[Costumer Name]: Feuer Online Stores, Inc [Costumer City]:  Leipzig\n",
      "[Costumer Name]: Franken Gifts, Co [Costumer City]:  München\n",
      "[Costumer Name]: Havel & Zbyszek Co [Costumer City]:  Warszawa\n",
      "[Costumer Name]: Kommission Auto [Costumer City]:  Münster\n",
      "[Costumer Name]: Kremlin Collectables, Co. [Costumer City]:  Saint Petersburg\n",
      "[Costumer Name]: Lisboa Souveniers, Inc [Costumer City]:  Lisboa\n",
      "[Costumer Name]: Messner Shopping Network [Costumer City]:  Frankfurt\n",
      "[Costumer Name]: Mit Vergnügen & Co. [Costumer City]:  Mannheim\n",
      "[Costumer Name]: Natürlich Autos [Costumer City]:  Cunewalde\n",
      "[Costumer Name]: Porto Imports Co. [Costumer City]:  Lisboa\n",
      "[Costumer Name]: Raanan Stores, Inc [Costumer City]:  Herzlia\n",
      "[Costumer Name]: SAR Distributors, Co [Costumer City]:  Hatfield\n",
      "[Costumer Name]: Schuyler Imports [Costumer City]:  Amsterdam\n",
      "[Costumer Name]: Stuttgart Collectable Exchange [Costumer City]:  Stuttgart\n",
      "[Costumer Name]: Warburg Exchange [Costumer City]:  Aachen\n"
     ]
    }
   ],
   "source": [
    "result = session.query(Customer).filter(Customer.salesRepEmployeeNumber.is_(None)).order_by(Customer.customerName)\n",
    "\n",
    "for row in result:\n",
    "    print(\"[Costumer Name]:\",row.customerName, \"[Costumer City]: \",row.city)"
   ]
  },
  {
   "cell_type": "markdown",
   "id": "07647c79",
   "metadata": {},
   "source": [
    "## 14. What are the names of executives with VP or Manager in their title? Use the CONCAT function to combine the employee's first name and last name into a single field for reporting \n"
   ]
  },
  {
   "cell_type": "code",
   "execution_count": 20,
   "id": "be596e67",
   "metadata": {},
   "outputs": [
    {
     "name": "stdout",
     "output_type": "stream",
     "text": [
      "2022-12-15 15:00:24,312 INFO sqlalchemy.engine.Engine SELECT concat(employees.`firstName`, %s, employees.`lastName`) AS concat_1, employees.`jobTitle` AS `employees_jobTitle` \n",
      "FROM employees \n",
      "WHERE (employees.`jobTitle` LIKE concat(concat('%%', %s), '%%')) OR (employees.`jobTitle` LIKE concat(concat('%%', %s), '%%'))\n",
      "2022-12-15 15:00:24,313 INFO sqlalchemy.engine.Engine [generated in 0.00114s] (' ', 'VP', 'Manager')\n",
      "('Mary Patterson', 'VP Sales')\n",
      "('Jeff Firrelli', 'VP Marketing')\n",
      "('William Patterson', 'Sales Manager (APAC)')\n",
      "('Gerard Bondur', 'Sale Manager (EMEA)')\n",
      "('Anthony Bow', 'Sales Manager (NA)')\n"
     ]
    }
   ],
   "source": [
    "result = session.query(func.concat(Employee.firstName,\" \" ,Employee.lastName), Employee.jobTitle).filter(\n",
    "    or_(Employee.jobTitle.contains('VP'), Employee.jobTitle.contains('Manager')))\n",
    "\n",
    "for row in result:\n",
    "    print(row)"
   ]
  },
  {
   "cell_type": "markdown",
   "id": "04f7bc7f",
   "metadata": {},
   "source": [
    "## 15. Which orders have a value greater thanh 5000?"
   ]
  },
  {
   "cell_type": "code",
   "execution_count": 21,
   "id": "bad41d70",
   "metadata": {},
   "outputs": [
    {
     "name": "stdout",
     "output_type": "stream",
     "text": [
      "2022-12-15 15:00:24,339 INFO sqlalchemy.engine.Engine SELECT orderdetails.`orderNumber` AS `orderdetails_orderNumber`, orderdetails.`productCode` AS `orderdetails_productCode`, orderdetails.`quantityOrdered` AS `orderdetails_quantityOrdered`, orderdetails.`priceEach` AS `orderdetails_priceEach`, orderdetails.`orderLineNumber` AS `orderdetails_orderLineNumber` \n",
      "FROM orderdetails \n",
      "WHERE orderdetails.`quantityOrdered` * orderdetails.`priceEach` > %s\n",
      "2022-12-15 15:00:24,341 INFO sqlalchemy.engine.Engine [generated in 0.00159s] (5000,)\n",
      "[Order Number]: 10103\n",
      "[Order Number]: 10103\n",
      "[Order Number]: 10105\n",
      "[Order Number]: 10105\n",
      "[Order Number]: 10105\n",
      "[Order Number]: 10108\n",
      "[Order Number]: 10108\n",
      "[Order Number]: 10108\n",
      "[Order Number]: 10109\n",
      "[Order Number]: 10109\n",
      "[Order Number]: 10109\n",
      "[Order Number]: 10110\n",
      "[Order Number]: 10110\n",
      "[Order Number]: 10110\n",
      "[Order Number]: 10112\n",
      "[Order Number]: 10114\n",
      "[Order Number]: 10115\n",
      "[Order Number]: 10115\n",
      "[Order Number]: 10117\n",
      "[Order Number]: 10117\n",
      "[Order Number]: 10117\n",
      "[Order Number]: 10119\n",
      "[Order Number]: 10119\n",
      "[Order Number]: 10120\n",
      "[Order Number]: 10121\n",
      "[Order Number]: 10122\n",
      "[Order Number]: 10122\n",
      "[Order Number]: 10123\n",
      "[Order Number]: 10126\n",
      "[Order Number]: 10126\n",
      "[Order Number]: 10127\n",
      "[Order Number]: 10127\n",
      "[Order Number]: 10127\n",
      "[Order Number]: 10127\n",
      "[Order Number]: 10127\n",
      "[Order Number]: 10127\n",
      "[Order Number]: 10129\n",
      "[Order Number]: 10134\n",
      "[Order Number]: 10135\n",
      "[Order Number]: 10135\n",
      "[Order Number]: 10135\n",
      "[Order Number]: 10135\n",
      "[Order Number]: 10136\n",
      "[Order Number]: 10137\n",
      "[Order Number]: 10139\n",
      "[Order Number]: 10140\n",
      "[Order Number]: 10140\n",
      "[Order Number]: 10141\n",
      "[Order Number]: 10142\n",
      "[Order Number]: 10142\n",
      "[Order Number]: 10142\n",
      "[Order Number]: 10143\n",
      "[Order Number]: 10145\n",
      "[Order Number]: 10145\n",
      "[Order Number]: 10147\n",
      "[Order Number]: 10148\n",
      "[Order Number]: 10149\n",
      "[Order Number]: 10150\n",
      "[Order Number]: 10150\n",
      "[Order Number]: 10151\n",
      "[Order Number]: 10151\n",
      "[Order Number]: 10153\n",
      "[Order Number]: 10153\n",
      "[Order Number]: 10155\n",
      "[Order Number]: 10157\n",
      "[Order Number]: 10159\n",
      "[Order Number]: 10161\n",
      "[Order Number]: 10162\n",
      "[Order Number]: 10164\n",
      "[Order Number]: 10165\n",
      "[Order Number]: 10165\n",
      "[Order Number]: 10165\n",
      "[Order Number]: 10165\n",
      "[Order Number]: 10165\n",
      "[Order Number]: 10166\n",
      "[Order Number]: 10167\n",
      "[Order Number]: 10167\n",
      "[Order Number]: 10168\n",
      "[Order Number]: 10170\n",
      "[Order Number]: 10171\n",
      "[Order Number]: 10172\n",
      "[Order Number]: 10174\n",
      "[Order Number]: 10174\n",
      "[Order Number]: 10176\n",
      "[Order Number]: 10176\n",
      "[Order Number]: 10176\n",
      "[Order Number]: 10176\n",
      "[Order Number]: 10177\n",
      "[Order Number]: 10178\n",
      "[Order Number]: 10178\n",
      "[Order Number]: 10180\n",
      "[Order Number]: 10180\n",
      "[Order Number]: 10180\n",
      "[Order Number]: 10181\n",
      "[Order Number]: 10181\n",
      "[Order Number]: 10181\n",
      "[Order Number]: 10181\n",
      "[Order Number]: 10182\n",
      "[Order Number]: 10184\n",
      "[Order Number]: 10184\n",
      "[Order Number]: 10184\n",
      "[Order Number]: 10185\n",
      "[Order Number]: 10188\n",
      "[Order Number]: 10192\n",
      "[Order Number]: 10192\n",
      "[Order Number]: 10192\n",
      "[Order Number]: 10193\n",
      "[Order Number]: 10194\n",
      "[Order Number]: 10194\n",
      "[Order Number]: 10195\n",
      "[Order Number]: 10195\n",
      "[Order Number]: 10196\n",
      "[Order Number]: 10196\n",
      "[Order Number]: 10196\n",
      "[Order Number]: 10197\n",
      "[Order Number]: 10198\n",
      "[Order Number]: 10201\n",
      "[Order Number]: 10202\n",
      "[Order Number]: 10203\n",
      "[Order Number]: 10203\n",
      "[Order Number]: 10203\n",
      "[Order Number]: 10204\n",
      "[Order Number]: 10204\n",
      "[Order Number]: 10204\n",
      "[Order Number]: 10205\n",
      "[Order Number]: 10206\n",
      "[Order Number]: 10207\n",
      "[Order Number]: 10207\n",
      "[Order Number]: 10207\n",
      "[Order Number]: 10207\n",
      "[Order Number]: 10208\n",
      "[Order Number]: 10209\n",
      "[Order Number]: 10210\n",
      "[Order Number]: 10211\n",
      "[Order Number]: 10211\n",
      "[Order Number]: 10212\n",
      "[Order Number]: 10212\n",
      "[Order Number]: 10212\n",
      "[Order Number]: 10212\n",
      "[Order Number]: 10214\n",
      "[Order Number]: 10215\n",
      "[Order Number]: 10216\n",
      "[Order Number]: 10217\n",
      "[Order Number]: 10218\n",
      "[Order Number]: 10219\n",
      "[Order Number]: 10220\n",
      "[Order Number]: 10220\n",
      "[Order Number]: 10221\n",
      "[Order Number]: 10222\n",
      "[Order Number]: 10222\n",
      "[Order Number]: 10223\n",
      "[Order Number]: 10223\n",
      "[Order Number]: 10224\n",
      "[Order Number]: 10225\n",
      "[Order Number]: 10225\n",
      "[Order Number]: 10226\n",
      "[Order Number]: 10227\n",
      "[Order Number]: 10228\n",
      "[Order Number]: 10229\n",
      "[Order Number]: 10229\n",
      "[Order Number]: 10230\n",
      "[Order Number]: 10230\n",
      "[Order Number]: 10230\n",
      "[Order Number]: 10231\n",
      "[Order Number]: 10231\n",
      "[Order Number]: 10232\n",
      "[Order Number]: 10234\n",
      "[Order Number]: 10234\n",
      "[Order Number]: 10237\n",
      "[Order Number]: 10238\n",
      "[Order Number]: 10238\n",
      "[Order Number]: 10239\n",
      "[Order Number]: 10240\n",
      "[Order Number]: 10240\n",
      "[Order Number]: 10241\n",
      "[Order Number]: 10241\n",
      "[Order Number]: 10243\n",
      "[Order Number]: 10244\n",
      "[Order Number]: 10245\n",
      "[Order Number]: 10246\n",
      "[Order Number]: 10246\n",
      "[Order Number]: 10247\n",
      "[Order Number]: 10247\n",
      "[Order Number]: 10248\n",
      "[Order Number]: 10250\n",
      "[Order Number]: 10251\n",
      "[Order Number]: 10251\n",
      "[Order Number]: 10251\n",
      "[Order Number]: 10251\n",
      "[Order Number]: 10252\n",
      "[Order Number]: 10253\n",
      "[Order Number]: 10254\n",
      "[Order Number]: 10258\n",
      "[Order Number]: 10258\n",
      "[Order Number]: 10259\n",
      "[Order Number]: 10259\n",
      "[Order Number]: 10260\n",
      "[Order Number]: 10260\n",
      "[Order Number]: 10262\n",
      "[Order Number]: 10263\n",
      "[Order Number]: 10263\n",
      "[Order Number]: 10263\n",
      "[Order Number]: 10265\n",
      "[Order Number]: 10266\n",
      "[Order Number]: 10266\n",
      "[Order Number]: 10268\n",
      "[Order Number]: 10268\n",
      "[Order Number]: 10268\n",
      "[Order Number]: 10271\n",
      "[Order Number]: 10271\n",
      "[Order Number]: 10271\n",
      "[Order Number]: 10272\n",
      "[Order Number]: 10272\n",
      "[Order Number]: 10273\n",
      "[Order Number]: 10274\n",
      "[Order Number]: 10275\n",
      "[Order Number]: 10276\n",
      "[Order Number]: 10276\n",
      "[Order Number]: 10276\n",
      "[Order Number]: 10278\n",
      "[Order Number]: 10279\n",
      "[Order Number]: 10280\n",
      "[Order Number]: 10281\n",
      "[Order Number]: 10281\n",
      "[Order Number]: 10282\n",
      "[Order Number]: 10282\n",
      "[Order Number]: 10284\n",
      "[Order Number]: 10285\n",
      "[Order Number]: 10285\n",
      "[Order Number]: 10287\n",
      "[Order Number]: 10287\n",
      "[Order Number]: 10287\n",
      "[Order Number]: 10288\n",
      "[Order Number]: 10288\n",
      "[Order Number]: 10289\n",
      "[Order Number]: 10291\n",
      "[Order Number]: 10291\n",
      "[Order Number]: 10291\n",
      "[Order Number]: 10292\n",
      "[Order Number]: 10293\n",
      "[Order Number]: 10293\n",
      "[Order Number]: 10296\n",
      "[Order Number]: 10299\n",
      "[Order Number]: 10299\n",
      "[Order Number]: 10300\n",
      "[Order Number]: 10301\n",
      "[Order Number]: 10301\n",
      "[Order Number]: 10301\n",
      "[Order Number]: 10302\n",
      "[Order Number]: 10304\n",
      "[Order Number]: 10305\n",
      "[Order Number]: 10306\n",
      "[Order Number]: 10307\n",
      "[Order Number]: 10310\n",
      "[Order Number]: 10310\n",
      "[Order Number]: 10310\n",
      "[Order Number]: 10310\n",
      "[Order Number]: 10310\n",
      "[Order Number]: 10312\n",
      "[Order Number]: 10312\n",
      "[Order Number]: 10313\n",
      "[Order Number]: 10314\n",
      "[Order Number]: 10314\n",
      "[Order Number]: 10314\n",
      "[Order Number]: 10314\n",
      "[Order Number]: 10318\n",
      "[Order Number]: 10318\n",
      "[Order Number]: 10319\n",
      "[Order Number]: 10320\n",
      "[Order Number]: 10321\n",
      "[Order Number]: 10321\n",
      "[Order Number]: 10321\n",
      "[Order Number]: 10322\n",
      "[Order Number]: 10322\n",
      "[Order Number]: 10322\n",
      "[Order Number]: 10322\n",
      "[Order Number]: 10324\n",
      "[Order Number]: 10324\n",
      "[Order Number]: 10325\n",
      "[Order Number]: 10325\n",
      "[Order Number]: 10325\n",
      "[Order Number]: 10329\n",
      "[Order Number]: 10329\n",
      "[Order Number]: 10330\n",
      "[Order Number]: 10330\n",
      "[Order Number]: 10331\n",
      "[Order Number]: 10331\n",
      "[Order Number]: 10336\n",
      "[Order Number]: 10336\n",
      "[Order Number]: 10336\n",
      "[Order Number]: 10336\n",
      "[Order Number]: 10337\n",
      "[Order Number]: 10338\n",
      "[Order Number]: 10339\n",
      "[Order Number]: 10340\n",
      "[Order Number]: 10341\n",
      "[Order Number]: 10341\n",
      "[Order Number]: 10341\n",
      "[Order Number]: 10342\n",
      "[Order Number]: 10342\n",
      "[Order Number]: 10343\n",
      "[Order Number]: 10344\n",
      "[Order Number]: 10347\n",
      "[Order Number]: 10347\n",
      "[Order Number]: 10348\n",
      "[Order Number]: 10348\n",
      "[Order Number]: 10349\n",
      "[Order Number]: 10349\n",
      "[Order Number]: 10349\n",
      "[Order Number]: 10350\n",
      "[Order Number]: 10351\n",
      "[Order Number]: 10354\n",
      "[Order Number]: 10356\n",
      "[Order Number]: 10357\n",
      "[Order Number]: 10357\n",
      "[Order Number]: 10357\n",
      "[Order Number]: 10358\n",
      "[Order Number]: 10358\n",
      "[Order Number]: 10359\n",
      "[Order Number]: 10359\n",
      "[Order Number]: 10359\n",
      "[Order Number]: 10360\n",
      "[Order Number]: 10363\n",
      "[Order Number]: 10366\n",
      "[Order Number]: 10366\n",
      "[Order Number]: 10367\n",
      "[Order Number]: 10367\n",
      "[Order Number]: 10367\n",
      "[Order Number]: 10369\n",
      "[Order Number]: 10370\n",
      "[Order Number]: 10371\n",
      "[Order Number]: 10371\n",
      "[Order Number]: 10372\n",
      "[Order Number]: 10372\n",
      "[Order Number]: 10375\n",
      "[Order Number]: 10375\n",
      "[Order Number]: 10377\n",
      "[Order Number]: 10377\n",
      "[Order Number]: 10378\n",
      "[Order Number]: 10378\n",
      "[Order Number]: 10379\n",
      "[Order Number]: 10381\n",
      "[Order Number]: 10381\n",
      "[Order Number]: 10381\n",
      "[Order Number]: 10382\n",
      "[Order Number]: 10382\n",
      "[Order Number]: 10383\n",
      "[Order Number]: 10383\n",
      "[Order Number]: 10388\n",
      "[Order Number]: 10388\n",
      "[Order Number]: 10388\n",
      "[Order Number]: 10389\n",
      "[Order Number]: 10390\n",
      "[Order Number]: 10390\n",
      "[Order Number]: 10390\n",
      "[Order Number]: 10393\n",
      "[Order Number]: 10395\n",
      "[Order Number]: 10396\n",
      "[Order Number]: 10399\n",
      "[Order Number]: 10399\n",
      "[Order Number]: 10400\n",
      "[Order Number]: 10400\n",
      "[Order Number]: 10401\n",
      "[Order Number]: 10401\n",
      "[Order Number]: 10402\n",
      "[Order Number]: 10403\n",
      "[Order Number]: 10403\n",
      "[Order Number]: 10403\n",
      "[Order Number]: 10404\n",
      "[Order Number]: 10404\n",
      "[Order Number]: 10404\n",
      "[Order Number]: 10404\n",
      "[Order Number]: 10405\n",
      "[Order Number]: 10405\n",
      "[Order Number]: 10405\n",
      "[Order Number]: 10406\n",
      "[Order Number]: 10406\n",
      "[Order Number]: 10406\n",
      "[Order Number]: 10407\n",
      "[Order Number]: 10407\n",
      "[Order Number]: 10407\n",
      "[Order Number]: 10407\n",
      "[Order Number]: 10407\n",
      "[Order Number]: 10410\n",
      "[Order Number]: 10410\n",
      "[Order Number]: 10412\n",
      "[Order Number]: 10412\n",
      "[Order Number]: 10412\n",
      "[Order Number]: 10412\n",
      "[Order Number]: 10412\n",
      "[Order Number]: 10413\n",
      "[Order Number]: 10413\n",
      "[Order Number]: 10413\n",
      "[Order Number]: 10414\n",
      "[Order Number]: 10414\n",
      "[Order Number]: 10417\n",
      "[Order Number]: 10417\n",
      "[Order Number]: 10417\n",
      "[Order Number]: 10418\n",
      "[Order Number]: 10419\n",
      "[Order Number]: 10419\n",
      "[Order Number]: 10419\n",
      "[Order Number]: 10420\n",
      "[Order Number]: 10420\n",
      "[Order Number]: 10420\n",
      "[Order Number]: 10421\n",
      "[Order Number]: 10424\n",
      "[Order Number]: 10424\n",
      "[Order Number]: 10424\n",
      "[Order Number]: 10425\n"
     ]
    }
   ],
   "source": [
    "result = session.query(Orderdetail).filter(Orderdetail.quantityOrdered*Orderdetail.priceEach > 5000)\n",
    "\n",
    "for row in result:\n",
    "    print(\"[Order Number]:\", row.orderNumber)"
   ]
  }
 ],
 "metadata": {
  "kernelspec": {
   "display_name": "Python 3",
   "language": "python",
   "name": "python3"
  },
  "language_info": {
   "codemirror_mode": {
    "name": "ipython",
    "version": 3
   },
   "file_extension": ".py",
   "mimetype": "text/x-python",
   "name": "python",
   "nbconvert_exporter": "python",
   "pygments_lexer": "ipython3",
   "version": "3.8.8"
  }
 },
 "nbformat": 4,
 "nbformat_minor": 5
}
